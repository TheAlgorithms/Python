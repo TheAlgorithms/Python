Python
# Dalam analisis_dasar.ipynb
import pandas as pd

def load_data(file_path):
    return pd.read_csv(file_path)

# Contoh penggunaan
data = load_data('data/dataset.csv')
print(data.head())
